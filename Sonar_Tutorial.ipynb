{
 "cells": [
  {
   "cell_type": "markdown",
   "metadata": {},
   "source": [
    "# Sonar - Decentralized Model Training Simulation (local)\n",
    "\n",
    "DISCLAIMER: This is a proof-of-concept implementation. It does not represent a remotely product ready implementation or follow proper conventions for security, convenience, or scalability. It is part of a broader proof-of-concept demonstrating the vision of the OpenMined project, its major moving parts, and how they might work together.\n"
   ]
  },
  {
   "cell_type": "markdown",
   "metadata": {},
   "source": [
    "# The Simulation: Diabetes Prediction"
   ]
  },
  {
   "cell_type": "markdown",
   "metadata": {},
   "source": [
    "In this example, a diabetes research center (Cure Diabetes Inc) wants to train a model to try to predict the progression of diabetes based on several indicators. They have collected a small sample (42 patients) of data but it's not enough to train a model. So, they intend to offer up a bounty of $5,000 to the OpenMined commmunity to train a high quality model.\n",
    "\n",
    "As it turns out, there are 400 diabetics in the network who are candidates for the model (are collecting the relevant fields). In this simulation, we're going to faciliate the training of Cure Diabetes Inc incentivizing these 400 anonymous contributors to train the model using the Ethereum blockchain.\n",
    "\n",
    "Note, in this simulation we're only going to use the sonar and syft packages (and everything is going to be deployed locally on a test blockchain). Future simulations will incorporate mine and capsule for greater anonymity and automation."
   ]
  },
  {
   "cell_type": "markdown",
   "metadata": {},
   "source": [
    "### Imports and Convenience Functions"
   ]
  },
  {
   "cell_type": "code",
   "execution_count": 50,
   "metadata": {
    "collapsed": true
   },
   "outputs": [],
   "source": [
    "import warnings\n",
    "import numpy as np\n",
    "import phe as paillier\n",
    "from sonar.contracts import ModelRepository,Model\n",
    "from syft.he.paillier.keys import KeyPair\n",
    "from syft.nn.linear import LinearClassifier\n",
    "import numpy as np\n",
    "from sklearn.datasets import load_diabetes\n",
    "\n",
    "def get_balance(account):\n",
    "    return repo.web3.fromWei(repo.web3.eth.getBalance(account),'ether')\n",
    "\n",
    "warnings.filterwarnings('ignore')"
   ]
  },
  {
   "cell_type": "markdown",
   "metadata": {},
   "source": [
    "### Setting up the Experiment"
   ]
  },
  {
   "cell_type": "code",
   "execution_count": 51,
   "metadata": {},
   "outputs": [
    {
     "name": "stdout",
     "output_type": "stream",
     "text": [
      "No account submitted... using default[2]\n",
      "Connected to OpenMined ModelRepository:0x249c008fc4f9c01248f557985f5b5b1aed8eb98f\n"
     ]
    }
   ],
   "source": [
    "# for the purpose of the simulation, we're going to split our dataset up amongst\n",
    "# the relevant simulated users\n",
    "\n",
    "diabetes = load_diabetes()\n",
    "y = diabetes.target\n",
    "X = diabetes.data\n",
    "\n",
    "validation = (X[0:5],y[0:5])\n",
    "anonymous_diabetes_users = (X[6:],y[6:])\n",
    "\n",
    "# we're also going to initialize the model trainer smart contract, which in the\n",
    "# real world would already be on the blockchain (managing other contracts) before\n",
    "# the simulation begins\n",
    "\n",
    "# ATTENTION: copy paste the correct address (NOT THE DEFAULT SEEN HERE) from truffle migrate output.\n",
    "repo = ModelRepository('0x249c008fc4f9c01248f557985f5b5b1aed8eb98f', ipfs_host='ipfs', web3_host='testrpc') # blockchain hosted model repository"
   ]
  },
  {
   "cell_type": "code",
   "execution_count": 52,
   "metadata": {
    "collapsed": true
   },
   "outputs": [],
   "source": [
    "# we're going to set aside 10 accounts for our 42 patients\n",
    "# Let's go ahead and pair each data point with each patient's \n",
    "# address so that we know we don't get them confused\n",
    "patient_addresses = repo.web3.eth.accounts[1:10]\n",
    "anonymous_diabetics = list(zip(patient_addresses,\n",
    "                               anonymous_diabetes_users[0],\n",
    "                               anonymous_diabetes_users[1]))\n",
    "\n",
    "# we're going to set aside 1 account for Cure Diabetes Inc\n",
    "cure_diabetes_inc = repo.web3.eth.accounts[1]"
   ]
  },
  {
   "cell_type": "markdown",
   "metadata": {},
   "source": [
    "## Step 1: Cure Diabetes Inc Initializes a Model and Provides a Bounty"
   ]
  },
  {
   "cell_type": "code",
   "execution_count": 53,
   "metadata": {},
   "outputs": [
    {
     "name": "stdout",
     "output_type": "stream",
     "text": [
      "21793600\n"
     ]
    }
   ],
   "source": [
    "pubkey,prikey = KeyPair().generate(n_length=1024)\n",
    "diabetes_classifier = LinearClassifier(desc=\"DiabetesClassifier\",n_inputs=10,n_labels=1)\n",
    "initial_error = diabetes_classifier.evaluate(validation[0],validation[1])\n",
    "print(initial_error)"
   ]
  },
  {
   "cell_type": "code",
   "execution_count": 54,
   "metadata": {
    "scrolled": true
   },
   "outputs": [
    {
     "data": {
      "text/plain": [
       "Linear Model (10,1): DiabetesClassifier"
      ]
     },
     "execution_count": 54,
     "metadata": {},
     "output_type": "execute_result"
    }
   ],
   "source": [
    "diabetes_classifier.encrypt(pubkey)"
   ]
  },
  {
   "cell_type": "code",
   "execution_count": 55,
   "metadata": {
    "collapsed": true
   },
   "outputs": [],
   "source": [
    "diabetes_model = Model(owner=cure_diabetes_inc,\n",
    "                       syft_obj = diabetes_classifier,\n",
    "                       bounty = 1,\n",
    "                       initial_error = initial_error,\n",
    "                       target_error = 10000\n",
    "                      )\n",
    "model_id = repo.submit_model(diabetes_model)"
   ]
  },
  {
   "cell_type": "markdown",
   "metadata": {},
   "source": [
    "The mine should now train on the this model and submit new gradients"
   ]
  },
  {
   "cell_type": "markdown",
   "metadata": {},
   "source": [
    "## Step 2: Batch the submitted gradients into a new model version"
   ]
  },
  {
   "cell_type": "code",
   "execution_count": 56,
   "metadata": {},
   "outputs": [
    {
     "data": {
      "text/plain": [
       "4"
      ]
     },
     "execution_count": 56,
     "metadata": {},
     "output_type": "execute_result"
    }
   ],
   "source": [
    "model_id"
   ]
  },
  {
   "cell_type": "code",
   "execution_count": 57,
   "metadata": {
    "collapsed": true
   },
   "outputs": [],
   "source": [
    "model = repo[model_id]"
   ]
  },
  {
   "cell_type": "code",
   "execution_count": 58,
   "metadata": {
    "collapsed": true
   },
   "outputs": [],
   "source": [
    "diabetic_address,input_data,target_data = anonymous_diabetics[0]"
   ]
  },
  {
   "cell_type": "code",
   "execution_count": 59,
   "metadata": {
    "collapsed": true
   },
   "outputs": [],
   "source": [
    "repo[model_id].submit_gradient(diabetic_address,input_data,target_data)"
   ]
  },
  {
   "cell_type": "markdown",
   "metadata": {},
   "source": [
    "## Step 3: Cure Diabetes Inc. Evaluates the Gradient"
   ]
  },
  {
   "cell_type": "code",
   "execution_count": 60,
   "metadata": {},
   "outputs": [
    {
     "data": {
      "text/plain": [
       "Desc:DiabetesClassifier\n",
       "Owner:0xf520db140a8eb2032b11bba47a65e6ba04d9a35e\n",
       "Bounty:1\n",
       "Initial Error:21793600\n",
       "Best Error:None\n",
       "Target Error:10000\n",
       "Model ID:4\n",
       "Num Grads:1"
      ]
     },
     "execution_count": 60,
     "metadata": {},
     "output_type": "execute_result"
    }
   ],
   "source": [
    "repo[model_id]"
   ]
  },
  {
   "cell_type": "code",
   "execution_count": 61,
   "metadata": {},
   "outputs": [
    {
     "name": "stdout",
     "output_type": "stream",
     "text": [
      "95.009648451733554405\n"
     ]
    }
   ],
   "source": [
    "old_balance = get_balance(diabetic_address)\n",
    "print(old_balance)"
   ]
  },
  {
   "cell_type": "code",
   "execution_count": 62,
   "metadata": {},
   "outputs": [
    {
     "name": "stdout",
     "output_type": "stream",
     "text": [
      "0xf520db140a8eb2032b11bba47a65e6ba04d9a35e\n"
     ]
    }
   ],
   "source": [
    "print(cure_diabetes_inc)"
   ]
  },
  {
   "cell_type": "code",
   "execution_count": 63,
   "metadata": {},
   "outputs": [
    {
     "name": "stdout",
     "output_type": "stream",
     "text": [
      "<sonar.contracts.Gradient object at 0x7f92cec94978>\n"
     ]
    }
   ],
   "source": [
    "print(repo[model_id][0])"
   ]
  },
  {
   "cell_type": "code",
   "execution_count": 64,
   "metadata": {},
   "outputs": [],
   "source": [
    "new_error = repo[model_id].evaluate_gradient(cure_diabetes_inc,repo[model_id][0],prikey,pubkey,validation[0],validation[1])"
   ]
  },
  {
   "cell_type": "code",
   "execution_count": 65,
   "metadata": {},
   "outputs": [
    {
     "data": {
      "text/plain": [
       "21739961"
      ]
     },
     "execution_count": 65,
     "metadata": {},
     "output_type": "execute_result"
    }
   ],
   "source": [
    "new_error"
   ]
  },
  {
   "cell_type": "code",
   "execution_count": 66,
   "metadata": {},
   "outputs": [
    {
     "name": "stdout",
     "output_type": "stream",
     "text": [
      "0.002461227149136046\n"
     ]
    }
   ],
   "source": [
    "new_balance = get_balance(diabetic_address)\n",
    "incentive = new_balance - old_balance\n",
    "print(incentive)"
   ]
  },
  {
   "cell_type": "markdown",
   "metadata": {},
   "source": [
    "## Step 4: Rinse and Repeat"
   ]
  },
  {
   "cell_type": "code",
   "execution_count": 67,
   "metadata": {},
   "outputs": [
    {
     "data": {
      "text/plain": [
       "Desc:DiabetesClassifier\n",
       "Owner:0xf520db140a8eb2032b11bba47a65e6ba04d9a35e\n",
       "Bounty:1\n",
       "Initial Error:21793600\n",
       "Best Error:None\n",
       "Target Error:10000\n",
       "Model ID:4\n",
       "Num Grads:1"
      ]
     },
     "execution_count": 67,
     "metadata": {},
     "output_type": "execute_result"
    }
   ],
   "source": [
    "model"
   ]
  },
  {
   "cell_type": "code",
   "execution_count": 68,
   "metadata": {},
   "outputs": [
    {
     "name": "stdout",
     "output_type": "stream",
     "text": [
      "new error = 21637218\n",
      "incentive = 0.00473\n",
      "new error = 21749031\n",
      "incentive = 0.00000\n",
      "new error = 21594788\n",
      "incentive = 0.00196\n",
      "new error = 21288800\n",
      "incentive = 0.01417\n",
      "new error = 21147043\n",
      "incentive = 0.00666\n",
      "new error = 21017889\n",
      "incentive = 0.00611\n",
      "new error = 20963495\n",
      "incentive = 0.00259\n",
      "new error = 20936481\n",
      "incentive = 0.00129\n",
      "new error = 20908625\n",
      "incentive = 0.00133\n"
     ]
    }
   ],
   "source": [
    "for i,(addr, input, target) in enumerate(anonymous_diabetics):\n",
    "    try:        \n",
    "        model = repo[model_id]        \n",
    "        # patient is doing this\n",
    "        model.submit_gradient(addr,input,target)        \n",
    "        # Cure Diabetes Inc does this\n",
    "        old_balance = get_balance(addr)\n",
    "        new_error = model.evaluate_gradient(cure_diabetes_inc,model[i+1],prikey,pubkey,validation[0],validation[1],alpha=2)\n",
    "        print(\"new error = \" + str(new_error))\n",
    "        incentive = round(get_balance(addr) - old_balance,5)\n",
    "        print(\"incentive = \" + str(incentive))\n",
    "    except:\n",
    "        print(\"Connection Reset\")"
   ]
  },
  {
   "cell_type": "code",
   "execution_count": null,
   "metadata": {
    "collapsed": true
   },
   "outputs": [],
   "source": []
  }
 ],
 "metadata": {
  "kernelspec": {
   "display_name": "Python 3",
   "language": "python",
   "name": "python3"
  },
  "language_info": {
   "codemirror_mode": {
    "name": "ipython",
    "version": 3
   },
   "file_extension": ".py",
   "mimetype": "text/x-python",
   "name": "python",
   "nbconvert_exporter": "python",
   "pygments_lexer": "ipython3",
   "version": "3.6.2"
  }
 },
 "nbformat": 4,
 "nbformat_minor": 2
}
